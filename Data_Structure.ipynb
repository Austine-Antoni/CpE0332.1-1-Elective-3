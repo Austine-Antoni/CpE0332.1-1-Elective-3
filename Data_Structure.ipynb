{
  "nbformat": 4,
  "nbformat_minor": 0,
  "metadata": {
    "colab": {
      "provenance": [],
      "authorship_tag": "ABX9TyMzDXQoE0ZcQrrN8n4T4wpn",
      "include_colab_link": true
    },
    "kernelspec": {
      "name": "python3",
      "display_name": "Python 3"
    },
    "language_info": {
      "name": "python"
    }
  },
  "cells": [
    {
      "cell_type": "markdown",
      "metadata": {
        "id": "view-in-github",
        "colab_type": "text"
      },
      "source": [
        "<a href=\"https://colab.research.google.com/github/Austine-Antoni/CpE0332.1-1-Elective-3/blob/main/Data_Structure.ipynb\" target=\"_parent\"><img src=\"https://colab.research.google.com/assets/colab-badge.svg\" alt=\"Open In Colab\"/></a>"
      ]
    },
    {
      "cell_type": "markdown",
      "source": [
        "Lists (Example 1)"
      ],
      "metadata": {
        "id": "-vqO7sTt-1fb"
      }
    },
    {
      "cell_type": "code",
      "execution_count": null,
      "metadata": {
        "colab": {
          "base_uri": "https://localhost:8080/"
        },
        "id": "R5HUSjXN-bfQ",
        "outputId": "17860d73-6bd5-4c75-9630-11006ff70a24"
      },
      "outputs": [
        {
          "output_type": "stream",
          "name": "stdout",
          "text": [
            "1\n"
          ]
        }
      ],
      "source": [
        "pi = 3.14159\n",
        "varList = [1,2,'A','B','Hello!',pi]\n",
        "print(varList[0])"
      ]
    },
    {
      "cell_type": "markdown",
      "source": [
        "Lists (Example 2)"
      ],
      "metadata": {
        "id": "CRJUEeO4C3JS"
      }
    },
    {
      "cell_type": "code",
      "source": [
        "print(varList[4])"
      ],
      "metadata": {
        "colab": {
          "base_uri": "https://localhost:8080/"
        },
        "id": "iM0xtoyEC4ci",
        "outputId": "ee65f5f0-5328-4aad-b7eb-e66c47c10fcd"
      },
      "execution_count": null,
      "outputs": [
        {
          "output_type": "stream",
          "name": "stdout",
          "text": [
            "Hello!\n"
          ]
        }
      ]
    },
    {
      "cell_type": "markdown",
      "source": [
        "Lists (Example 3)"
      ],
      "metadata": {
        "id": "VITjRw1OC9TR"
      }
    },
    {
      "cell_type": "code",
      "source": [
        "varList.append('World!')\n",
        "print(varList[6])"
      ],
      "metadata": {
        "colab": {
          "base_uri": "https://localhost:8080/"
        },
        "id": "LvzcICoRC--a",
        "outputId": "25c82032-9575-4132-ed5a-c3bb3e60adac"
      },
      "execution_count": null,
      "outputs": [
        {
          "output_type": "stream",
          "name": "stdout",
          "text": [
            "World!\n"
          ]
        }
      ]
    },
    {
      "cell_type": "markdown",
      "source": [
        "Lists (Example 4)"
      ],
      "metadata": {
        "id": "R2j_PQmoDHoB"
      }
    },
    {
      "cell_type": "code",
      "source": [
        "len(varList)"
      ],
      "metadata": {
        "colab": {
          "base_uri": "https://localhost:8080/"
        },
        "id": "3hkdU3sHDJRS",
        "outputId": "ea510e7f-9a5b-4f84-c3f1-bc6d33f2b0da"
      },
      "execution_count": null,
      "outputs": [
        {
          "output_type": "execute_result",
          "data": {
            "text/plain": [
              "7"
            ]
          },
          "metadata": {},
          "execution_count": 4
        }
      ]
    },
    {
      "cell_type": "markdown",
      "source": [
        "Lists (Example 5)"
      ],
      "metadata": {
        "id": "ss1BVH6nDMB6"
      }
    },
    {
      "cell_type": "code",
      "source": [
        "print(varList[5])"
      ],
      "metadata": {
        "colab": {
          "base_uri": "https://localhost:8080/"
        },
        "id": "MXQAmVOADNY6",
        "outputId": "808b3d7c-6ba1-453a-c00d-356808cbb371"
      },
      "execution_count": null,
      "outputs": [
        {
          "output_type": "stream",
          "name": "stdout",
          "text": [
            "3.14159\n"
          ]
        }
      ]
    },
    {
      "cell_type": "markdown",
      "source": [
        "Lists (Example 6)"
      ],
      "metadata": {
        "id": "w7U6q5gGDQhS"
      }
    },
    {
      "cell_type": "code",
      "source": [
        "varList.remove(pi)\n",
        "print(varList[5])"
      ],
      "metadata": {
        "colab": {
          "base_uri": "https://localhost:8080/"
        },
        "id": "t9I536CODR4K",
        "outputId": "ae34abbd-cca5-4152-c429-a309ce2cdfdc"
      },
      "execution_count": null,
      "outputs": [
        {
          "output_type": "stream",
          "name": "stdout",
          "text": [
            "World!\n"
          ]
        }
      ]
    },
    {
      "cell_type": "markdown",
      "source": [
        "Dictionaries (Example 1)"
      ],
      "metadata": {
        "id": "5Vuc3cNyD7W_"
      }
    },
    {
      "cell_type": "code",
      "source": [
        "var = \"Hello World!\"\n",
        "varDict = {'first': 123, 2: 'abc',\n",
        "   '3': var, 4: ['lista','listb'] }\n",
        "print(varDict['first'])"
      ],
      "metadata": {
        "colab": {
          "base_uri": "https://localhost:8080/"
        },
        "id": "8VMYO_nhD___",
        "outputId": "fe2da31d-837e-4b30-df32-d027b90fa0ec"
      },
      "execution_count": null,
      "outputs": [
        {
          "output_type": "stream",
          "name": "stdout",
          "text": [
            "123\n"
          ]
        }
      ]
    },
    {
      "cell_type": "markdown",
      "source": [
        "Dictionaries (Example 2)"
      ],
      "metadata": {
        "id": "0TtKhAX5Ejvx"
      }
    },
    {
      "cell_type": "code",
      "source": [
        "print(varDict[2])"
      ],
      "metadata": {
        "colab": {
          "base_uri": "https://localhost:8080/"
        },
        "id": "Gs2Ur3myElPK",
        "outputId": "196f8d9e-6a31-4a83-8305-775764dc0486"
      },
      "execution_count": null,
      "outputs": [
        {
          "output_type": "stream",
          "name": "stdout",
          "text": [
            "abc\n"
          ]
        }
      ]
    },
    {
      "cell_type": "markdown",
      "source": [
        "Dictionaries (Example 3)"
      ],
      "metadata": {
        "id": "rxUGa0S_EqY5"
      }
    },
    {
      "cell_type": "code",
      "source": [
        "print(varDict['3'])"
      ],
      "metadata": {
        "colab": {
          "base_uri": "https://localhost:8080/"
        },
        "id": "BkLgbiX-EuxS",
        "outputId": "328067bd-caed-4569-a415-cd15c9e28c62"
      },
      "execution_count": null,
      "outputs": [
        {
          "output_type": "stream",
          "name": "stdout",
          "text": [
            "Hello World!\n"
          ]
        }
      ]
    },
    {
      "cell_type": "markdown",
      "source": [
        "Dictionaries (Example 4)"
      ],
      "metadata": {
        "id": "P7FRUZYSEzeT"
      }
    },
    {
      "cell_type": "code",
      "source": [
        "print(varDict[4])"
      ],
      "metadata": {
        "colab": {
          "base_uri": "https://localhost:8080/"
        },
        "id": "7-wxpmKsE1cp",
        "outputId": "19a649a5-f2ce-49e4-fa17-9f8c8b57653c"
      },
      "execution_count": null,
      "outputs": [
        {
          "output_type": "stream",
          "name": "stdout",
          "text": [
            "['lista', 'listb']\n"
          ]
        }
      ]
    },
    {
      "cell_type": "markdown",
      "source": [
        "Dictionaries (Example 5)"
      ],
      "metadata": {
        "id": "B0KDxq9YE7wJ"
      }
    },
    {
      "cell_type": "code",
      "source": [
        "print(varDict[4][1])"
      ],
      "metadata": {
        "colab": {
          "base_uri": "https://localhost:8080/"
        },
        "id": "BD58c_gEE9AD",
        "outputId": "fac2b142-855d-4100-fdf6-a900700a709b"
      },
      "execution_count": null,
      "outputs": [
        {
          "output_type": "stream",
          "name": "stdout",
          "text": [
            "listb\n"
          ]
        }
      ]
    },
    {
      "cell_type": "markdown",
      "source": [
        "Dictionaries (Example 6)"
      ],
      "metadata": {
        "id": "lsEdZnhgFFA7"
      }
    },
    {
      "cell_type": "code",
      "source": [
        "len(varDict)"
      ],
      "metadata": {
        "colab": {
          "base_uri": "https://localhost:8080/"
        },
        "id": "C--L6V8fFGSU",
        "outputId": "c42bf8cd-310e-4796-e656-ce06e0936998"
      },
      "execution_count": null,
      "outputs": [
        {
          "output_type": "execute_result",
          "data": {
            "text/plain": [
              "4"
            ]
          },
          "metadata": {},
          "execution_count": 15
        }
      ]
    },
    {
      "cell_type": "markdown",
      "source": [
        "Dictionaries (Extra)"
      ],
      "metadata": {
        "id": "81j-bNXQF4FJ"
      }
    },
    {
      "cell_type": "code",
      "source": [
        "varDict[2] = 3\n",
        "print(varDict[2])\n",
        "print(varDict)\n",
        "print(varDict[4][0][1])"
      ],
      "metadata": {
        "colab": {
          "base_uri": "https://localhost:8080/"
        },
        "id": "Hw5DFlM0Fhab",
        "outputId": "5901a1a7-500a-4626-a261-4bb20be8bf90"
      },
      "execution_count": null,
      "outputs": [
        {
          "output_type": "stream",
          "name": "stdout",
          "text": [
            "3\n",
            "{'first': 123, 2: 3, '3': 'Hello World!', 4: ['lista', 'listb']}\n",
            "i\n"
          ]
        }
      ]
    },
    {
      "cell_type": "markdown",
      "source": [
        "Dictionaries (Example 7)"
      ],
      "metadata": {
        "id": "yC8qekXdGAiQ"
      }
    },
    {
      "cell_type": "code",
      "source": [
        "studentDict = {\n",
        "    'student' : 'name',\n",
        "    'age' : 12,\n",
        "    'bday' : 41283,\n",
        "    'age' : 12\n",
        "}\n",
        "\n",
        "print(studentDict) #non-homogeneous; doesn't allow duplicated key and value"
      ],
      "metadata": {
        "colab": {
          "base_uri": "https://localhost:8080/"
        },
        "id": "s2p_wHXXGC-4",
        "outputId": "ac7deb0f-c53f-488e-bd4b-f7fd5c61d7c5"
      },
      "execution_count": null,
      "outputs": [
        {
          "output_type": "stream",
          "name": "stdout",
          "text": [
            "{'student': 'name', 'age': 12, 'bday': 41283}\n"
          ]
        }
      ]
    },
    {
      "cell_type": "markdown",
      "source": [
        "Slicing (Example 1)"
      ],
      "metadata": {
        "id": "OvNorMANHBui"
      }
    },
    {
      "cell_type": "code",
      "source": [
        "newList = [1,2,3,4,5,6,7,8,9,10]\n",
        "print(newList[:5])"
      ],
      "metadata": {
        "colab": {
          "base_uri": "https://localhost:8080/"
        },
        "id": "eijO1IpGHJjo",
        "outputId": "11a420f6-4cfb-4d4c-df9b-2e55336de263"
      },
      "execution_count": null,
      "outputs": [
        {
          "output_type": "stream",
          "name": "stdout",
          "text": [
            "[1, 2, 3, 4, 5]\n"
          ]
        }
      ]
    },
    {
      "cell_type": "markdown",
      "source": [
        "Slicing (Example 2)"
      ],
      "metadata": {
        "id": "IrsWMZGlHdJh"
      }
    },
    {
      "cell_type": "code",
      "source": [
        "print(newList[5:])"
      ],
      "metadata": {
        "colab": {
          "base_uri": "https://localhost:8080/"
        },
        "id": "g_T_jx5nHebJ",
        "outputId": "8e71be95-a8c2-4603-cff8-8c74a33f61f2"
      },
      "execution_count": null,
      "outputs": [
        {
          "output_type": "stream",
          "name": "stdout",
          "text": [
            "[6, 7, 8, 9, 10]\n"
          ]
        }
      ]
    },
    {
      "cell_type": "markdown",
      "source": [
        "Slicing (Example 3)"
      ],
      "metadata": {
        "id": "eeLvrL-TH5bX"
      }
    },
    {
      "cell_type": "code",
      "source": [
        "print(newList[-2:])"
      ],
      "metadata": {
        "colab": {
          "base_uri": "https://localhost:8080/"
        },
        "id": "UrD5nsP8H7DC",
        "outputId": "638f0522-5a64-423b-96bc-b4c513847491"
      },
      "execution_count": null,
      "outputs": [
        {
          "output_type": "stream",
          "name": "stdout",
          "text": [
            "[9, 10]\n"
          ]
        }
      ]
    },
    {
      "cell_type": "markdown",
      "source": [
        "Slicing (Example 4)"
      ],
      "metadata": {
        "id": "irceToa7IBwy"
      }
    },
    {
      "cell_type": "code",
      "source": [
        "print(newList[2:-2])"
      ],
      "metadata": {
        "colab": {
          "base_uri": "https://localhost:8080/"
        },
        "id": "KxioTByyIDlK",
        "outputId": "9531d96f-c5e7-4d21-dc53-a0d4b48c661d"
      },
      "execution_count": null,
      "outputs": [
        {
          "output_type": "stream",
          "name": "stdout",
          "text": [
            "[3, 4, 5, 6, 7, 8]\n"
          ]
        }
      ]
    },
    {
      "cell_type": "markdown",
      "source": [
        "Slicing (Example 5)"
      ],
      "metadata": {
        "id": "pchVpz69IMg5"
      }
    },
    {
      "cell_type": "code",
      "source": [
        "print(newList[2:8:2])"
      ],
      "metadata": {
        "colab": {
          "base_uri": "https://localhost:8080/"
        },
        "id": "kpAc67KJIOoZ",
        "outputId": "e9da0e08-7a4c-4203-abff-d39d03440ce3"
      },
      "execution_count": null,
      "outputs": [
        {
          "output_type": "stream",
          "name": "stdout",
          "text": [
            "[3, 5, 7]\n"
          ]
        }
      ]
    }
  ]
}