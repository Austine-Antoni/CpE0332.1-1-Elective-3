{
  "nbformat": 4,
  "nbformat_minor": 0,
  "metadata": {
    "colab": {
      "provenance": [],
      "authorship_tag": "ABX9TyNSFxo+TOvKe19FcnIVHoyx",
      "include_colab_link": true
    },
    "kernelspec": {
      "name": "python3",
      "display_name": "Python 3"
    },
    "language_info": {
      "name": "python"
    }
  },
  "cells": [
    {
      "cell_type": "markdown",
      "metadata": {
        "id": "view-in-github",
        "colab_type": "text"
      },
      "source": [
        "<a href=\"https://colab.research.google.com/github/Austine-Antoni/CpE0332.1-1-Elective-3/blob/main/Conditional_Statement_in_Python.ipynb\" target=\"_parent\"><img src=\"https://colab.research.google.com/assets/colab-badge.svg\" alt=\"Open In Colab\"/></a>"
      ]
    },
    {
      "cell_type": "markdown",
      "source": [
        "If Statement"
      ],
      "metadata": {
        "id": "5VTTlAoNCOe_"
      }
    },
    {
      "cell_type": "code",
      "source": [
        "a = 12\n",
        "b = 100\n",
        "\n",
        "if a<b:\n",
        "  print('a is less than b')"
      ],
      "metadata": {
        "colab": {
          "base_uri": "https://localhost:8080/"
        },
        "id": "g5gUypMZCSG2",
        "outputId": "e6b70ac5-2528-4a89-e4e7-676847975d96"
      },
      "execution_count": null,
      "outputs": [
        {
          "output_type": "stream",
          "name": "stdout",
          "text": [
            "a is less than b\n"
          ]
        }
      ]
    },
    {
      "cell_type": "markdown",
      "source": [
        "Elif Statement"
      ],
      "metadata": {
        "id": "1JU3qbO_Co6L"
      }
    },
    {
      "cell_type": "code",
      "source": [
        "age = int(input(\"Enter your age: \"))\n",
        "if age >= 18:\n",
        "  print(\"You are qualified to get a license\")\n",
        "elif age < 18:\n",
        "  print(\"You are not qualified to get a license\")"
      ],
      "metadata": {
        "colab": {
          "base_uri": "https://localhost:8080/"
        },
        "id": "gfzKmKPOCqd2",
        "outputId": "ddfe1b9e-bb12-46dc-d770-f3939e6c75ec"
      },
      "execution_count": null,
      "outputs": [
        {
          "output_type": "stream",
          "name": "stdout",
          "text": [
            "Enter your age: 17\n",
            "You are not qualified to get a license\n"
          ]
        }
      ]
    },
    {
      "cell_type": "markdown",
      "source": [
        "Else Statement"
      ],
      "metadata": {
        "id": "Gsioe8FmEk6N"
      }
    },
    {
      "cell_type": "code",
      "source": [
        "print(\"Enter an integer: \")\n",
        "x = int(input())\n",
        "if x > 0:\n",
        "  print(\"Positive number\")\n",
        "elif x < 0:\n",
        "  print(\"Negative number\")\n",
        "else:\n",
        "  print(\"Zero\")"
      ],
      "metadata": {
        "colab": {
          "base_uri": "https://localhost:8080/"
        },
        "id": "31qYIr8xEmWe",
        "outputId": "f67cff3a-84be-40a3-ec8f-491f3229a5bf"
      },
      "execution_count": null,
      "outputs": [
        {
          "output_type": "stream",
          "name": "stdout",
          "text": [
            "Enter an integer: \n",
            "0\n",
            "Zero\n"
          ]
        }
      ]
    },
    {
      "cell_type": "markdown",
      "source": [
        "Short Hand If Statement"
      ],
      "metadata": {
        "id": "EJlS4ZRNFSE1"
      }
    },
    {
      "cell_type": "code",
      "source": [
        "if a<b: print('a is less than b')"
      ],
      "metadata": {
        "colab": {
          "base_uri": "https://localhost:8080/"
        },
        "id": "s4rTsplXFVl5",
        "outputId": "d821111b-2e9c-4174-a064-603075bf57b4"
      },
      "execution_count": null,
      "outputs": [
        {
          "output_type": "stream",
          "name": "stdout",
          "text": [
            "a is less than b\n"
          ]
        }
      ]
    },
    {
      "cell_type": "markdown",
      "source": [
        "Short Hand If...Else Statement"
      ],
      "metadata": {
        "id": "OguvFjSbF-Jc"
      }
    },
    {
      "cell_type": "code",
      "source": [
        "print(\"a is greater than b\") if a>b else print(\"b is greater than a\")"
      ],
      "metadata": {
        "colab": {
          "base_uri": "https://localhost:8080/"
        },
        "id": "Mi-rWj4AGDgV",
        "outputId": "28184f05-762b-4eaa-cf4b-09c1f9857f5c"
      },
      "execution_count": null,
      "outputs": [
        {
          "output_type": "stream",
          "name": "stdout",
          "text": [
            "b is greater than a\n"
          ]
        }
      ]
    },
    {
      "cell_type": "markdown",
      "source": [
        "And Statement"
      ],
      "metadata": {
        "id": "7FpsvHqjGfol"
      }
    },
    {
      "cell_type": "code",
      "source": [
        "a = 12\n",
        "b = 100\n",
        "c = 500\n",
        "if a < b and c > a:\n",
        "  print(\"Both statements are true\")"
      ],
      "metadata": {
        "colab": {
          "base_uri": "https://localhost:8080/"
        },
        "id": "1IZbrMXaGh3O",
        "outputId": "b444522e-e26a-41f3-c63f-a525adc41778"
      },
      "execution_count": null,
      "outputs": [
        {
          "output_type": "stream",
          "name": "stdout",
          "text": [
            "Both statements are true\n"
          ]
        }
      ]
    },
    {
      "cell_type": "markdown",
      "source": [
        "Or Statement"
      ],
      "metadata": {
        "id": "ghqm2xpsHC3k"
      }
    },
    {
      "cell_type": "code",
      "source": [
        "if a < b or c > a:\n",
        "  print(\"Either of the statements is true\")"
      ],
      "metadata": {
        "colab": {
          "base_uri": "https://localhost:8080/"
        },
        "id": "GyFtHNIZHFT0",
        "outputId": "62d19d4d-b0de-462c-8eb6-0248e99cde3a"
      },
      "execution_count": null,
      "outputs": [
        {
          "output_type": "stream",
          "name": "stdout",
          "text": [
            "Either of the statements is true\n"
          ]
        }
      ]
    },
    {
      "cell_type": "markdown",
      "source": [
        "Nested If Statement"
      ],
      "metadata": {
        "id": "-c2lBjzpHYY9"
      }
    },
    {
      "cell_type": "code",
      "source": [
        "x = int(input(\"Enter an integer: \"))\n",
        "if x>10:\n",
        "  print(\"Above 10, \")\n",
        "  if x>20:\n",
        "    print(\"and also above 20, \")\n",
        "    if x>30:\n",
        "      print(\"and also above 30, \")\n",
        "      if x>40:\n",
        "        print(\"and also above 40, \")\n",
        "        if x>50:\n",
        "          print(\"and also above 50!\")\n",
        "        else:\n",
        "          print(\"Not above 50\")\n",
        "      else:\n",
        "       print(\"Not above 40\")\n",
        "    else:\n",
        "      print(\"Not above 30\")\n"
      ],
      "metadata": {
        "colab": {
          "base_uri": "https://localhost:8080/"
        },
        "id": "LNi6ADuXHcyU",
        "outputId": "d1dce251-b1ac-4e1c-db75-2e94d3fabb05"
      },
      "execution_count": null,
      "outputs": [
        {
          "output_type": "stream",
          "name": "stdout",
          "text": [
            "Enter an integer: 29\n",
            "Above 10, \n",
            "and also above 20, \n",
            "Not above 30\n"
          ]
        }
      ]
    },
    {
      "cell_type": "markdown",
      "source": [
        "Application 2\n",
        "\n",
        "  If:​\n",
        "\n",
        "\t\t grade > = 75 , “Passed”​\n",
        "\n",
        "\t\tgrade = 74, “Remedial”​\n",
        "\n",
        "\t\tgrade < 74, “Failed”​\n",
        "\n",
        "\t\tnote: if grade is a negative number, it will not accepted​"
      ],
      "metadata": {
        "id": "C-fCQOMZLAli"
      }
    },
    {
      "cell_type": "code",
      "source": [
        "print(\"This program will compute for the student's average and display the marking.\")\n",
        "print(\"*To pass, only grades greater than or equal to 75 are accepted.\\n*Negative numbers are not allowed. \\n\")\n",
        "g1 = float(input(\"Enter first grade: \"))\n",
        "g2 = float(input(\"Enter second grade: \"))\n",
        "g3 = float(input(\"Enter third grade: \"))\n",
        "grade = round((g1 + g2 + g3)/3,2)\n",
        "\n",
        "if g1>0 and g2>0 and g3>0:\n",
        "  print(\"Your average grade is \" + str(grade))\n",
        "  if grade>=75 and g1>=75 and g2>=75 and g3>=75:\n",
        "    print(\"Mark: Passed\")\n",
        "  elif grade>=75 or g1>=75 or g2>=75 or g3>=75:\n",
        "    print(\"Mark: You have failed a subject/s.\")\n",
        "  elif 74 <= grade < 75:\n",
        "    print(\"Mark: Remedial\")\n",
        "  elif grade < 74:\n",
        "    print(\"Mark: Failed\")\n",
        "else:\n",
        "    print(\"One of your inputs is an invalid input- negative numbers not allowed. Try again.\")"
      ],
      "metadata": {
        "colab": {
          "base_uri": "https://localhost:8080/"
        },
        "id": "hyqyiBTzLGcI",
        "outputId": "ef6b79d2-44c5-4aed-ec76-506051f496d9"
      },
      "execution_count": 80,
      "outputs": [
        {
          "output_type": "stream",
          "name": "stdout",
          "text": [
            "This program will compute for the student's average and display the marking.\n",
            "*To pass, only grades greater than or equal to 75 are accepted.\n",
            "*Negative numbers are not allowed. \n",
            "\n",
            "Enter first grade: 75\n",
            "Enter second grade: 75\n",
            "Enter third grade: 75\n",
            "Your average grade is 75.0\n",
            "Mark: Passed\n"
          ]
        }
      ]
    }
  ]
}